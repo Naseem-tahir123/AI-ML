{
  "nbformat": 4,
  "nbformat_minor": 0,
  "metadata": {
    "colab": {
      "provenance": [],
      "collapsed_sections": [
        "T-iou7IMei9d",
        "y5LV6fOjfI95",
        "P_i-BBYyfRVy",
        "pn_qkFCzi5p2"
      ],
      "mount_file_id": "1P9L98doC8V1fdoHLp-P_rNfXeNZYbd4p",
      "authorship_tag": "ABX9TyMKzounduHb4VMb9aSw65PI",
      "include_colab_link": true
    },
    "kernelspec": {
      "name": "python3",
      "display_name": "Python 3"
    },
    "language_info": {
      "name": "python"
    }
  },
  "cells": [
    {
      "cell_type": "markdown",
      "metadata": {
        "id": "view-in-github",
        "colab_type": "text"
      },
      "source": [
        "<a href=\"https://colab.research.google.com/github/Naseem-tahir123/AI-ML/blob/main/Vectorization_In_Pythhon.ipynb\" target=\"_parent\"><img src=\"https://colab.research.google.com/assets/colab-badge.svg\" alt=\"Open In Colab\"/></a>"
      ]
    },
    {
      "cell_type": "code",
      "execution_count": null,
      "metadata": {
        "colab": {
          "base_uri": "https://localhost:8080/"
        },
        "id": "405t1OzqKCNw",
        "outputId": "e665464c-044d-4a49-c997-9c801fb1f7b5"
      },
      "outputs": [
        {
          "output_type": "execute_result",
          "data": {
            "text/plain": [
              "array([[ 4,  6, 11],\n",
              "       [16,  9, 13]])"
            ]
          },
          "metadata": {},
          "execution_count": 61
        }
      ],
      "source": [
        "import numpy as np\n",
        "\n",
        "array1 = np.array([[1,2,4],[4,5,6]])\n",
        "array2 = np.array( [[3,4,7], [12, 4 ,7]])\n",
        "\n",
        "sum_of_array = array1 + array2\n",
        "sum_of_array"
      ]
    },
    {
      "cell_type": "code",
      "source": [
        "import time\n",
        "start = time.time()\n",
        "\n",
        "a = np.array([1,2,3,4,5,6])\n",
        "result = a + 2\n",
        "end = time.time()\n",
        "print (\"Vertorization time : \" ,end - start)"
      ],
      "metadata": {
        "colab": {
          "base_uri": "https://localhost:8080/"
        },
        "id": "D2uiTjibLJjn",
        "outputId": "eac9ca46-0a1b-404f-bfe0-1efa00109ad3"
      },
      "execution_count": null,
      "outputs": [
        {
          "output_type": "stream",
          "name": "stdout",
          "text": [
            "Vertorization time :  0.00022339820861816406\n"
          ]
        }
      ]
    },
    {
      "cell_type": "code",
      "source": [
        "start = time.time()\n",
        "b = [1,2,3,4,5,6]\n",
        "for i in range(len(b)):\n",
        " b[i] += 2\n",
        "\n",
        "\n",
        "\n",
        "end = time.time()\n",
        "print(\"For loop time: \", end - start)\n"
      ],
      "metadata": {
        "colab": {
          "base_uri": "https://localhost:8080/"
        },
        "id": "8fU5dHvVL4c_",
        "outputId": "0de5ab97-c471-4699-b759-3ba46c21dae1"
      },
      "execution_count": null,
      "outputs": [
        {
          "output_type": "stream",
          "name": "stdout",
          "text": [
            "For loop time:  0.0002110004425048828\n"
          ]
        }
      ]
    },
    {
      "cell_type": "code",
      "source": [
        "\n",
        "arr = np.array([2,4,6,8,10])\n",
        "\n",
        "def find_square(x):\n",
        "  if x < 0 :\n",
        "    return 0\n",
        "  else:\n",
        "    return x**2\n",
        "\n",
        "verctorized_function = np.vectorize(find_square)\n",
        "result = verctorized_function(arr)\n",
        "print(result)\n"
      ],
      "metadata": {
        "colab": {
          "base_uri": "https://localhost:8080/"
        },
        "id": "yob2pHVqNPTV",
        "outputId": "cf89ec26-20b9-4823-e887-58a6bcd04266"
      },
      "execution_count": null,
      "outputs": [
        {
          "output_type": "stream",
          "name": "stdout",
          "text": [
            "[  4  16  36  64 100]\n"
          ]
        }
      ]
    },
    {
      "cell_type": "code",
      "source": [
        "# Task 1: Element-wise Addition\n",
        "arr1 = [1,2,3,4]\n",
        "arr2 = [2,4,6,8]\n",
        "result = []\n",
        "for i in range(len(arr2)):\n",
        "  result.append(arr1[i]+arr2[i])\n",
        "print(result)\n"
      ],
      "metadata": {
        "colab": {
          "base_uri": "https://localhost:8080/"
        },
        "id": "KNq81IM3OXt5",
        "outputId": "e848cef1-d6ae-4689-b93f-4f6c88993b02"
      },
      "execution_count": null,
      "outputs": [
        {
          "output_type": "stream",
          "name": "stdout",
          "text": [
            "[3, 6, 9, 12]\n"
          ]
        }
      ]
    },
    {
      "cell_type": "code",
      "source": [
        "# Task 2: Scaling Elements\n",
        "\n",
        "ar1 = [1,2,3,4, 5]\n",
        "factor = 10\n",
        "result = []\n",
        "for i in range(len(ar1)):\n",
        "  result.append(ar1[i]*factor)\n",
        "print(result)\n"
      ],
      "metadata": {
        "colab": {
          "base_uri": "https://localhost:8080/"
        },
        "id": "fhiamP4NO2z5",
        "outputId": "2ae39e2f-fa6a-4353-8155-786b4067b42a"
      },
      "execution_count": null,
      "outputs": [
        {
          "output_type": "stream",
          "name": "stdout",
          "text": [
            "[10, 20, 30, 40, 50]\n"
          ]
        }
      ]
    },
    {
      "cell_type": "code",
      "source": [
        "# Task 3: Element-wise Squaring\n",
        "arr1 = [2,4,5,6,9]\n",
        "res =[]\n",
        "for i in range(len(arr1)):\n",
        "  res.append(arr1[i]**2)\n",
        "print(res)"
      ],
      "metadata": {
        "colab": {
          "base_uri": "https://localhost:8080/"
        },
        "id": "cyVovt0XPfgh",
        "outputId": "0eb9d7b1-94f5-48a2-a136-c9d8ba2f183d"
      },
      "execution_count": null,
      "outputs": [
        {
          "output_type": "stream",
          "name": "stdout",
          "text": [
            "[4, 16, 25, 36, 81]\n"
          ]
        }
      ]
    },
    {
      "cell_type": "code",
      "source": [
        "# Task 4: Sum of Each Row in a Matrix\n",
        "matrix1 = [[1, 2, 3], [4, 5, 6], [7, 8, 9]]\n",
        "row_sums = []\n",
        "for i in matrix1:\n",
        "    row_sums.append(sum(i))\n",
        "print(row_sums)\n",
        "\n"
      ],
      "metadata": {
        "colab": {
          "base_uri": "https://localhost:8080/",
          "height": 211
        },
        "id": "Pkx9rrCmP8eE",
        "outputId": "d183e9ae-0517-4d86-c834-d73eaa4b6c64"
      },
      "execution_count": null,
      "outputs": [
        {
          "output_type": "error",
          "ename": "TypeError",
          "evalue": "'numpy.ndarray' object is not callable",
          "traceback": [
            "\u001b[0;31m---------------------------------------------------------------------------\u001b[0m",
            "\u001b[0;31mTypeError\u001b[0m                                 Traceback (most recent call last)",
            "\u001b[0;32m<ipython-input-69-5a2e2099cf13>\u001b[0m in \u001b[0;36m<cell line: 4>\u001b[0;34m()\u001b[0m\n\u001b[1;32m      3\u001b[0m \u001b[0mrow_sums\u001b[0m \u001b[0;34m=\u001b[0m \u001b[0;34m[\u001b[0m\u001b[0;34m]\u001b[0m\u001b[0;34m\u001b[0m\u001b[0;34m\u001b[0m\u001b[0m\n\u001b[1;32m      4\u001b[0m \u001b[0;32mfor\u001b[0m \u001b[0mi\u001b[0m \u001b[0;32min\u001b[0m \u001b[0mmatrix1\u001b[0m\u001b[0;34m:\u001b[0m\u001b[0;34m\u001b[0m\u001b[0;34m\u001b[0m\u001b[0m\n\u001b[0;32m----> 5\u001b[0;31m     \u001b[0mrow_sums\u001b[0m\u001b[0;34m.\u001b[0m\u001b[0mappend\u001b[0m\u001b[0;34m(\u001b[0m\u001b[0msum\u001b[0m\u001b[0;34m(\u001b[0m\u001b[0mi\u001b[0m\u001b[0;34m)\u001b[0m\u001b[0;34m)\u001b[0m\u001b[0;34m\u001b[0m\u001b[0;34m\u001b[0m\u001b[0m\n\u001b[0m\u001b[1;32m      6\u001b[0m \u001b[0mprint\u001b[0m\u001b[0;34m(\u001b[0m\u001b[0mrow_sums\u001b[0m\u001b[0;34m)\u001b[0m\u001b[0;34m\u001b[0m\u001b[0;34m\u001b[0m\u001b[0m\n\u001b[1;32m      7\u001b[0m \u001b[0;34m\u001b[0m\u001b[0m\n",
            "\u001b[0;31mTypeError\u001b[0m: 'numpy.ndarray' object is not callable"
          ]
        }
      ]
    },
    {
      "cell_type": "code",
      "source": [
        "#  Dot Product of Two Vectors\n",
        "v1 = [1,2,3]\n",
        "v2 = [4,5,6]\n",
        "dot_product = 0\n",
        "for i in range(len(v2)):\n",
        "  dot_product += v1[i]*v2[i]\n",
        "print(dot_product)\n"
      ],
      "metadata": {
        "id": "h4q1aTd1RuhD"
      },
      "execution_count": null,
      "outputs": []
    },
    {
      "cell_type": "code",
      "source": [
        "# Task 6: Matrix Multiplication\n",
        "M1 = [[1,2],[3,4]]\n",
        "M2 = [ [4,5],[6,7]]\n",
        "\n",
        "result = [[0,0], [0,0]]\n",
        "\n",
        "for i in range(len(M1)):\n",
        "  for j in range(len(M2)):\n",
        "    for k in range(len(result)):\n",
        "      result[i][j] += M1[i][j] * M2[i][j]\n",
        "print(result)"
      ],
      "metadata": {
        "id": "E2zFRxHTSaeD"
      },
      "execution_count": null,
      "outputs": []
    },
    {
      "cell_type": "code",
      "source": [
        "# Task 7: Filtering Elements\n",
        "\n",
        "Lst = [1,2,3,4,6,7,88,9,12]\n",
        "threshold = 3\n",
        "filtered_lst = []\n",
        "for i in range(len(Lst)):\n",
        "  if i>=threshold:\n",
        "    filtered_lst.append(i)\n",
        "print(filtered_lst)\n",
        "\n"
      ],
      "metadata": {
        "id": "c5wNWh-eTZ7D"
      },
      "execution_count": null,
      "outputs": []
    },
    {
      "cell_type": "code",
      "source": [],
      "metadata": {
        "id": "UDfeWZMSe4n6"
      },
      "execution_count": null,
      "outputs": []
    },
    {
      "cell_type": "markdown",
      "source": [
        "\n",
        " #  **Activity 1**\n"
      ],
      "metadata": {
        "id": "T-iou7IMei9d"
      }
    },
    {
      "cell_type": "code",
      "source": [
        "# Dot product\n",
        "import array\n",
        "import time\n",
        "import numpy\n",
        "a = array.array('q')\n",
        "for i in range(100000):\n",
        "  a.append(i)\n",
        "\n",
        "\n",
        "b = array.array('q')\n",
        "for i in range(100000,200000):\n",
        "  b.append(i)\n",
        "\n",
        "tic = time.process_time()\n",
        "dot = 0\n",
        "for i in range(len(a)):\n",
        "  dot += a[i]*b[i]\n",
        "toc = time.process_time()\n",
        "\n",
        "print(\"Dot Product: \", str(dot))\n",
        "print(\"Process Time: \"+ str(1000*(toc - tic)) + \" ms\")\n",
        "\n",
        "\n",
        "n_tic = time.process_time()\n",
        "n_dot_product = numpy.dot(a,b)\n",
        "n_toc = time.process_time()\n",
        "\n",
        "print(\"Dot Product: \", str(n_dot_product))\n",
        "print(\"Process Time: \"+ str(1000*(n_toc - n_tic)) + \" ms\")\n",
        "\n",
        "\n",
        "\n",
        "\n",
        "\n"
      ],
      "metadata": {
        "id": "gpXwgo9MVpPu"
      },
      "execution_count": null,
      "outputs": []
    },
    {
      "cell_type": "markdown",
      "source": [
        "# **Activity 2**"
      ],
      "metadata": {
        "id": "y5LV6fOjfI95"
      }
    },
    {
      "cell_type": "code",
      "source": [
        "# Element-wise multiplication\n",
        "import array\n",
        "import time\n",
        "import numpy\n",
        "a = array.array('i')\n",
        "for i in range(100000):\n",
        "  a.append(i)\n",
        "\n",
        "\n",
        "b = array.array('i')\n",
        "for i in range(100000,200000):\n",
        "  b.append(i)\n",
        "\n",
        "\n",
        "# classic element wise product of vectors implementation\n",
        "vectors = numpy.zeros((100000))\n",
        "tic = time.process_time()\n",
        "for i in range(len(a)):\n",
        "  vectors[i]= a[i]*b[i]\n",
        "toc = time.process_time()\n",
        "\n",
        "print(\"Element Vise Product: \", str(vectors), \"\\n\")\n",
        "print(\"Process Time: \"+ str(1000*(toc - tic)) + \" ms\\n\\n\")\n",
        "\n",
        "\n",
        "n_tic = time.process_time()\n",
        "vectors = numpy.multiply(a,b)\n",
        "n_toc = time.process_time()\n",
        "\n",
        "print(\"Element Vise Product: \", str(vectors) , \"\\n\")\n",
        "print(\"Process Time: \"+ str(1000*(n_toc - n_tic)) + \" ms\")\n",
        "\n",
        "\n",
        "\n",
        "\n",
        "\n"
      ],
      "metadata": {
        "id": "Nw5DuZ9jaAFS"
      },
      "execution_count": null,
      "outputs": []
    },
    {
      "cell_type": "markdown",
      "source": [
        "# **Activity 3**"
      ],
      "metadata": {
        "id": "P_i-BBYyfRVy"
      }
    },
    {
      "cell_type": "code",
      "source": [],
      "metadata": {
        "id": "szQZBBPwfPZi"
      },
      "execution_count": null,
      "outputs": []
    },
    {
      "cell_type": "code",
      "source": [
        "# Outer product\n",
        "# Element-wise multiplication\n",
        "import array\n",
        "import time\n",
        "import numpy\n",
        "a = array.array('i')\n",
        "for i in range(200):\n",
        "  a.append(i)\n",
        "\n",
        "\n",
        "b = array.array('i')\n",
        "for i in range(200,400):\n",
        "  b.append(i)\n",
        "\n",
        "\n",
        " # classic outer product of vectors implementation\n",
        "tic = time.process_time()\n",
        "outer_product = numpy.zeros((200,200))\n",
        "for i in range(len(a)):\n",
        "  for j in range(len(b)):\n",
        "    outer_product[i][j] = a[i] * b[j]\n",
        "toc = time.process_time()\n",
        "\n",
        "print(\"Outer Product: \", str(outer_product))\n",
        "print(\"Process Time: \"+ str(1000*(toc - tic)) + \" ms\\n\")\n",
        "\n",
        "\n",
        "n_tic = time.process_time()\n",
        "outer_product = numpy.outer(a,b)\n",
        "n_toc = time.process_time()\n",
        "\n",
        "print(\"Outer Product: \", str(outer_product))\n",
        "print(\"Process Time: \"+ str(1000*(n_toc - n_tic)) + \" ms\")\n",
        "\n",
        "\n",
        "\n",
        "\n",
        "\n"
      ],
      "metadata": {
        "id": "wqMQM8-Rb7Az"
      },
      "execution_count": null,
      "outputs": []
    },
    {
      "cell_type": "markdown",
      "source": [
        "# **class task**"
      ],
      "metadata": {
        "id": "pn_qkFCzi5p2"
      }
    },
    {
      "cell_type": "code",
      "source": [
        "vector = np.ones((1,100))\n",
        "vector.shape\n",
        "\n",
        "vector2 = np.random.rand(100,10)\n",
        "vector2.shape\n",
        "\n",
        "\n",
        "result = numpy.dot(vector,vector2)\n",
        "result.shape\n",
        "\n",
        "\n",
        "\n"
      ],
      "metadata": {
        "colab": {
          "base_uri": "https://localhost:8080/"
        },
        "id": "j4fqsZcbjDJG",
        "outputId": "3bd52b50-f720-4eb0-9a5c-e57111083dfa"
      },
      "execution_count": null,
      "outputs": [
        {
          "output_type": "execute_result",
          "data": {
            "text/plain": [
              "(1, 10)"
            ]
          },
          "metadata": {},
          "execution_count": 108
        }
      ]
    },
    {
      "cell_type": "code",
      "source": [],
      "metadata": {
        "id": "23zir-dIjSQC"
      },
      "execution_count": null,
      "outputs": []
    },
    {
      "cell_type": "code",
      "source": [],
      "metadata": {
        "id": "keBVF5ypjST3"
      },
      "execution_count": null,
      "outputs": []
    }
  ]
}